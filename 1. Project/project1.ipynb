{
 "cells": [
  {
   "cell_type": "markdown",
   "metadata": {},
   "source": [
    "Task 1\n",
    "\n",
    "yob2021.txt file has 3 columns, separated with a comma, without any header"
   ]
  },
  {
   "cell_type": "code",
   "execution_count": 1,
   "metadata": {},
   "outputs": [],
   "source": [
    "import pandas as pd"
   ]
  },
  {
   "cell_type": "markdown",
   "metadata": {},
   "source": [
    "Task 2"
   ]
  },
  {
   "cell_type": "code",
   "execution_count": 2,
   "metadata": {},
   "outputs": [],
   "source": [
    "df = pd.read_csv('names/yob2021.txt', index_col=None, sep=',', header=None)"
   ]
  },
  {
   "cell_type": "markdown",
   "metadata": {},
   "source": [
    "Task 3"
   ]
  },
  {
   "cell_type": "code",
   "execution_count": 3,
   "metadata": {},
   "outputs": [
    {
     "name": "stdout",
     "output_type": "stream",
     "text": [
      "The first 10 rows in the file are:\n",
      "           0  1      2\n",
      "0     Olivia  F  17824\n",
      "1       Emma  F  15530\n",
      "2  Charlotte  F  13352\n",
      "3     Amelia  F  13024\n",
      "4        Ava  F  12854\n",
      "5     Sophia  F  12559\n",
      "6   Isabella  F  11288\n",
      "7        Mia  F  11157\n",
      "8     Evelyn  F   9484\n",
      "9     Harper  F   8433\n"
     ]
    }
   ],
   "source": [
    "first10 = df.head(10)\n",
    "\n",
    "print(\"The first 10 rows in the file are:\")\n",
    "print(first10)"
   ]
  },
  {
   "cell_type": "markdown",
   "metadata": {},
   "source": [
    "Task 4"
   ]
  },
  {
   "cell_type": "code",
   "execution_count": 4,
   "metadata": {},
   "outputs": [
    {
     "name": "stdout",
     "output_type": "stream",
     "text": [
      "The rows and columns of the file are:\n",
      "(31729, 3)\n"
     ]
    }
   ],
   "source": [
    "print(\"The rows and columns of the file are:\")\n",
    "print(df.shape)"
   ]
  },
  {
   "cell_type": "markdown",
   "metadata": {},
   "source": [
    "Task 5"
   ]
  },
  {
   "cell_type": "code",
   "execution_count": 5,
   "metadata": {},
   "outputs": [
    {
     "name": "stdout",
     "output_type": "stream",
     "text": [
      "The sum of the third column (total number of babies born in 2021) is:\n",
      "3384687\n"
     ]
    }
   ],
   "source": [
    "print(\"The sum of the third column (total number of babies born in 2021) is:\")\n",
    "print(df[2].sum())"
   ]
  },
  {
   "cell_type": "markdown",
   "metadata": {},
   "source": [
    "Task 6"
   ]
  },
  {
   "cell_type": "code",
   "execution_count": 6,
   "metadata": {},
   "outputs": [
    {
     "name": "stdout",
     "output_type": "stream",
     "text": [
      "The sum of females born in 2021 is:\n",
      "1638188\n",
      "The sum of males born in 2021 is:\n",
      "1746499\n"
     ]
    }
   ],
   "source": [
    "print(\"The sum of females born in 2021 is:\")\n",
    "print(df[df[1]=='F'][2].sum())\n",
    "\n",
    "print(\"The sum of males born in 2021 is:\")\n",
    "print(df[df[1]=='M'][2].sum())"
   ]
  },
  {
   "cell_type": "markdown",
   "metadata": {},
   "source": [
    "Task 7"
   ]
  },
  {
   "cell_type": "code",
   "execution_count": 7,
   "metadata": {},
   "outputs": [
    {
     "name": "stdout",
     "output_type": "stream",
     "text": [
      "The name Edvards is in the file:\n",
      "False\n"
     ]
    }
   ],
   "source": [
    "print(\"The name Edvards is in the file:\")\n",
    "print(\"Edvards\" in df[0].values)"
   ]
  },
  {
   "cell_type": "markdown",
   "metadata": {},
   "source": [
    "Task 8"
   ]
  },
  {
   "cell_type": "code",
   "execution_count": 8,
   "metadata": {},
   "outputs": [
    {
     "name": "stdout",
     "output_type": "stream",
     "text": [
      "The percentage of females born in 2021 is:\n",
      "48.4\n",
      "The percentage of males born in 2021 is:\n",
      "51.6\n"
     ]
    }
   ],
   "source": [
    "print(\"The percentage of females born in 2021 is:\")\n",
    "percentage_female=(df[df[1]=='F'][2].sum())/(df[2].sum())*100\n",
    "print(round(percentage_female, 2))\n",
    "\n",
    "print(\"The percentage of males born in 2021 is:\")\n",
    "percentage_male=(df[df[1]=='M'][2].sum())/(df[2].sum())*100\n",
    "print(round(percentage_male, 2))"
   ]
  },
  {
   "cell_type": "markdown",
   "metadata": {},
   "source": [
    "Task 9"
   ]
  },
  {
   "cell_type": "code",
   "execution_count": 9,
   "metadata": {},
   "outputs": [
    {
     "name": "stdout",
     "output_type": "stream",
     "text": [
      "The top 5 boys names and top 5 girls names in 2021 are:\n",
      "               0  1      2\n",
      "17649       Liam  M  20391\n",
      "17650       Noah  M  18884\n",
      "17651     Oliver  M  14696\n",
      "17652     Elijah  M  12807\n",
      "17653      James  M  12452\n",
      "0         Olivia  F  17824\n",
      "1           Emma  F  15530\n",
      "2      Charlotte  F  13352\n",
      "3         Amelia  F  13024\n",
      "4            Ava  F  12854\n"
     ]
    }
   ],
   "source": [
    "top5boys=df[df[1]=='M'].sort_values(by=2, ascending=False).head(5)\n",
    "top5girls=df[df[1]=='F'].sort_values(by=2, ascending=False).head(5)\n",
    "\n",
    "table = pd.concat([top5boys, top5girls])\n",
    "\n",
    "print(\"The top 5 boys names and top 5 girls names in 2021 are:\")\n",
    "print(table)"
   ]
  },
  {
   "cell_type": "markdown",
   "metadata": {},
   "source": [
    "Task 10"
   ]
  },
  {
   "cell_type": "code",
   "execution_count": 10,
   "metadata": {},
   "outputs": [],
   "source": [
    "table.to_excel('names/top5namesbothgenders2021.xlsx')"
   ]
  }
 ],
 "metadata": {
  "kernelspec": {
   "display_name": ".venv",
   "language": "python",
   "name": "python3"
  },
  "language_info": {
   "codemirror_mode": {
    "name": "ipython",
    "version": 3
   },
   "file_extension": ".py",
   "mimetype": "text/x-python",
   "name": "python",
   "nbconvert_exporter": "python",
   "pygments_lexer": "ipython3",
   "version": "3.12.5"
  }
 },
 "nbformat": 4,
 "nbformat_minor": 2
}
